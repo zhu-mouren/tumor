{
 "cells": [
  {
   "cell_type": "code",
   "execution_count": 9,
   "id": "closed-sixth",
   "metadata": {},
   "outputs": [],
   "source": [
    "import torch\n",
    "import numpy as np\n",
    "import pandas as pd\n",
    "import os"
   ]
  },
  {
   "cell_type": "code",
   "execution_count": 12,
   "id": "typical-nigeria",
   "metadata": {},
   "outputs": [],
   "source": [
    "img_dir = r'/data0/2'\n",
    "a = os.listdir(img_dir)"
   ]
  },
  {
   "cell_type": "code",
   "execution_count": 13,
   "id": "urban-bottle",
   "metadata": {},
   "outputs": [
    {
     "data": {
      "text/plain": [
       "315"
      ]
     },
     "execution_count": 13,
     "metadata": {},
     "output_type": "execute_result"
    }
   ],
   "source": [
    "len(a)"
   ]
  },
  {
   "cell_type": "code",
   "execution_count": 16,
   "id": "driven-press",
   "metadata": {},
   "outputs": [
    {
     "name": "stdout",
     "output_type": "stream",
     "text": [
      "['156-2.bmp', '269-2.bmp', '277-2.bmp', '242-2.bmp', '267-2.bmp', '129-2.bmp', '234-2.bmp', '97-2.bmp', '130-2.bmp', '208-2.bmp', '177-2.bmp', '188-2.bmp', '253-2.bmp', '14-2.bmp', '195-2.bmp', '232-2.bmp', '112-2.bmp', '45-2.bmp', '155-2.bmp', '181-2.bmp', '327-2.jpg', '347-2.jpg', '220-2.bmp', '64-2.bmp', '119-2.bmp', '211-2.bmp', '73-2.bmp', '290-2.bmp', '273-2.bmp', '336-2.jpg', '46-2.bmp', '120-2.bmp', '201-2.bmp', '333-2.jpg', '4-2.bmp', '219-2.bmp', '26-2.bmp', '279-2.bmp', '227-2.bmp', '314-2.bmp', '254-2.bmp', '44-2.bmp', '31-2.bmp', '167-2.bmp', '213-2.bmp', '200-2.bmp', '261-2.bmp', '34-2.bmp', '348-2.jpg', '118-2.bmp', '123-2.bmp', '293-2.bmp', '28-2.bmp', '43-2.bmp', '145-2.bmp', '168-2.bmp', '147-2.bmp', '174-2.bmp', '95-2.bmp', '226-2.bmp', '1-2.bmp', '88-2.bmp', '151-2.bmp', '292-2.bmp', '69-2.bmp', '9-2.bmp', '50-2.bmp', '302-2.bmp', '230-2.bmp', '107-2.bmp', '248-2.bmp', '52-2.bmp', '275-2.bmp', '163-2.bmp', '198-2.bmp', '243-2.bmp', '102-2.bmp', '98-2.bmp', '192-2.bmp', '47-2.bmp', '270-2.bmp', '41-2.bmp', '134-2.bmp', '40-2.bmp', '251-2.bmp', '142-2.bmp', '206-2.bmp', '210-2.bmp', '8-2.bmp', '127-2.bmp', '240-2.bmp', '245-2.bmp', '276-2.bmp', '164-2.bmp', '5-2.bmp', '202-2.bmp', '150-2.bmp', '159-2.bmp', '90-2.bmp', '161-2.bmp', '22-2.bmp', '56-2.bmp', '78-2.bmp', '196-2.bmp', '212-2.bmp', '337-2.jpg', '6-2.bmp', '229-2.bmp', '260-2.bmp', '346-2.jpg', '113-2.bmp', '51-2.bmp', '21-2.bmp', '126-2.bmp', '189-2.bmp', '235-2.bmp', '125-2.bmp', '153-2.bmp', '61-2.bmp', '124-2.bmp', '135-2.bmp', '137-2.bmp', '287-2.bmp', '233-2.bmp', '99-2.bmp', '79-2.bmp', '82-2.bmp', '170-2.bmp', '278-2.bmp', '13-2.bmp', '296-2.bmp', '238-2.bmp', '316-2.bmp', '154-2.bmp', '36-2.bmp', '283-2.bmp', '101-2.bmp', '93-2.bmp', '136-2.bmp', '94-2.bmp', '68-2.bmp', '303-2.bmp', '111-2.bmp', '85-2.bmp', '75-2.bmp', '289-2.bmp', '263-2.bmp', '30-2.bmp', '236-2.bmp', '80-2.bmp', '72-2.bmp', '317-2.bmp', '266-2.bmp', '334-2.jpg', '217-2.bmp', '179-2.bmp', '285-2.bmp', '162-2.bmp', '340-2.jpg', '256-2.bmp', '100-2.bmp', '10-2.bmp', '149-2.bmp', '87-2.bmp', '20-2.bmp', '313-2.bmp', '221-2.bmp', '339-2.jpg', '350-2.jpg', '324-2.jpg', '89-2.bmp', '343-2.jpg', '53-2.bmp', '295-2.bmp', '49-2.bmp', '341-2.jpg', '310-2.bmp', '108-2.bmp', '38-2.bmp', '215-2.bmp', '19-2.bmp', '190-2.bmp', '27-2.bmp', '216-2.bmp', '12-2.bmp', '319-2.bmp', '15-2.bmp', '23-2.bmp', '58-2.bmp', '329-2.jpg', '178-2.bmp', '3-2.bmp', '284-2.bmp', '335-2.jpg', '257-2.bmp', '180-2.bmp', '272-2.bmp', '250-2.bmp', '141-2.bmp', '55-2.bmp', '176-2.bmp', '244-2.bmp', '281-2.bmp', '33-2.bmp', '109-2.bmp', '323-2.jpg', '309-2.bmp', '326-2.jpg', '297-2.bmp', '207-2.bmp', '165-2.bmp', '193-2.bmp', '25-2.bmp', '104-2.bmp', '268-2.bmp', '57-2.bmp', '158-2.bmp', '103-2.bmp', '37-2.bmp', '262-2.bmp', '144-2.bmp', '291-2.bmp', '96-2.bmp', '132-2.bmp', '91-2.bmp', '116-2.bmp', '81-2.bmp', '282-2.bmp', '138-2.bmp', '35-2.bmp', '197-2.bmp', '222-2.bmp', '298-2.bmp', '199-2.bmp', '183-2.bmp', '237-2.bmp', '311-2.bmp', '146-2.bmp', '83-2.bmp', '315-2.bmp', '114-2.bmp', '172-2.bmp', '140-2.bmp', '17-2.bmp', '77-2.bmp', '86-2.bmp', '331-2.jpg', '106-2.bmp', '325-2.jpg', '258-2.bmp', '133-2.bmp', '166-2.bmp', '122-2.bmp', '247-2.bmp', '105-2.bmp', '338-2.jpg', '306-2.bmp', '76-2.bmp', '60-2.bmp', '16-2.bmp', '67-2.bmp', '169-2.bmp', '171-2.bmp', '223-2.bmp', '187-2.bmp', '299-2.bmp', '249-2.bmp', '194-2.bmp', '224-2.bmp', '66-2.bmp', '322-2.jpg', '225-2.bmp', '157-2.bmp', '121-2.bmp', '330-2.jpg', '349-2.jpg', '39-2.bmp', '148-2.bmp', '182-2.bmp', '239-2.bmp', '65-2.bmp', '71-2.bmp', '204-2.bmp', '84-2.bmp', '304-2.bmp', '2-2.bmp', '280-2.bmp', '54-2.bmp', '294-2.bmp', '48-2.bmp', '344-2.jpg', '42-2.bmp', '29-2.bmp', '152-2.bmp', '271-2.bmp', '186-2.bmp', '342-2.jpg', '231-2.bmp', '218-2.bmp', '63-2.bmp', '214-2.bmp', '143-2.bmp', '228-2.bmp', '209-2.bmp', '318-2.bmp', '74-2.bmp', '305-2.bmp', '185-2.bmp', '255-2.bmp', '160-2.bmp', '18-2.bmp', '62-2.bmp', '246-2.bmp', '92-2.bmp', '184-2.bmp']\n"
     ]
    }
   ],
   "source": [
    "print(os.listdir(img_dir))"
   ]
  },
  {
   "cell_type": "code",
   "execution_count": 1,
   "id": "irish-latino",
   "metadata": {},
   "outputs": [
    {
     "name": "stdout",
     "output_type": "stream",
     "text": [
      "Package                 Version            \n",
      "----------------------- -------------------\n",
      "absl-py                 0.12.0             \n",
      "anyio                   2.2.0              \n",
      "argon2-cffi             20.1.0             \n",
      "astor                   0.8.0              \n",
      "astunparse              1.6.3              \n",
      "async-generator         1.10               \n",
      "attrs                   20.3.0             \n",
      "Babel                   2.9.0              \n",
      "backcall                0.2.0              \n",
      "batchgenerators         0.21               \n",
      "bleach                  3.3.0              \n",
      "cachetools              4.1.0              \n",
      "certifi                 2020.4.5.1         \n",
      "cffi                    1.14.0             \n",
      "chardet                 3.0.4              \n",
      "cloudpickle             1.6.0              \n",
      "contextvars             2.4                \n",
      "cycler                  0.10.0             \n",
      "dataclasses             0.8                \n",
      "decorator               4.4.2              \n",
      "defusedxml              0.7.1              \n",
      "dicom2nifti             2.2.12             \n",
      "entrypoints             0.3                \n",
      "flatbuffers             1.12               \n",
      "future                  0.16.0             \n",
      "gast                    0.3.3              \n",
      "google-auth             1.14.1             \n",
      "google-auth-oauthlib    0.4.1              \n",
      "google-pasta            0.2.0              \n",
      "grpcio                  1.32.0             \n",
      "h5py                    2.10.0             \n",
      "hausdorff               0.2.5              \n",
      "idna                    2.9                \n",
      "imageio                 2.9.0              \n",
      "immutables              0.15               \n",
      "importlib-metadata      3.10.0             \n",
      "ipykernel               5.5.3              \n",
      "ipython                 7.16.1             \n",
      "ipython-genutils        0.2.0              \n",
      "ipywidgets              7.6.3              \n",
      "jedi                    0.18.0             \n",
      "Jinja2                  2.11.3             \n",
      "joblib                  1.0.1              \n",
      "json5                   0.9.5              \n",
      "jsonschema              3.2.0              \n",
      "jupyter                 1.0.0              \n",
      "jupyter-client          6.1.12             \n",
      "jupyter-console         6.4.0              \n",
      "jupyter-core            4.7.1              \n",
      "jupyter-packaging       0.7.12             \n",
      "jupyter-server          1.5.1              \n",
      "jupyterlab              3.0.12             \n",
      "jupyterlab-pygments     0.1.2              \n",
      "jupyterlab-server       2.4.0              \n",
      "jupyterlab-widgets      1.0.0              \n",
      "Keras                   2.2.4              \n",
      "Keras-Applications      1.0.8              \n",
      "Keras-Preprocessing     1.1.2              \n",
      "keras-tqdm              2.0.1              \n",
      "kiwisolver              1.3.1              \n",
      "linecache2              1.0.0              \n",
      "llvmlite                0.36.0             \n",
      "lxml                    4.5.0              \n",
      "Markdown                3.1.1              \n",
      "MarkupSafe              1.1.1              \n",
      "matplotlib              2.2.5              \n",
      "MedPy                   0.4.0              \n",
      "mistune                 0.8.4              \n",
      "mkl-fft                 1.0.15             \n",
      "mkl-random              1.1.0              \n",
      "mkl-service             2.3.0              \n",
      "mock                    4.0.1              \n",
      "nbclassic               0.2.6              \n",
      "nbclient                0.5.3              \n",
      "nbconvert               6.0.7              \n",
      "nbformat                5.1.2              \n",
      "nest-asyncio            1.5.1              \n",
      "networkx                2.5                \n",
      "neuralgym               0.0.1              \n",
      "nibabel                 3.2.1              \n",
      "notebook                6.3.0              \n",
      "numba                   0.53.1             \n",
      "numpy                   1.19.5             \n",
      "oauthlib                3.1.0              \n",
      "opencv-python           3.4.13.47          \n",
      "opt-einsum              3.3.0              \n",
      "packaging               20.9               \n",
      "pandas                  1.1.5              \n",
      "pandocfilters           1.4.3              \n",
      "parso                   0.8.2              \n",
      "pexpect                 4.8.0              \n",
      "pickleshare             0.7.5              \n",
      "Pillow                  8.2.0              \n",
      "pip                     20.0.2             \n",
      "progressbar2            3.53.1             \n",
      "prometheus-client       0.9.0              \n",
      "prompt-toolkit          3.0.18             \n",
      "protobuf                3.11.4             \n",
      "ptyprocess              0.7.0              \n",
      "pyaml                   20.4.0             \n",
      "pyasn1                  0.4.8              \n",
      "pyasn1-modules          0.2.8              \n",
      "pycparser               2.20               \n",
      "pydicom                 2.1.2              \n",
      "Pygments                2.8.1              \n",
      "pyparsing               2.4.7              \n",
      "pyrsistent              0.17.3             \n",
      "python-dateutil         2.8.1              \n",
      "python-utils            2.5.6              \n",
      "pytils                  0.3                \n",
      "pytz                    2021.1             \n",
      "PyWavelets              1.1.1              \n",
      "PyYAML                  5.4.1              \n",
      "pyzmq                   22.0.3             \n",
      "qtconsole               5.0.3              \n",
      "QtPy                    1.9.0              \n",
      "requests                2.23.0             \n",
      "requests-oauthlib       1.3.0              \n",
      "rsa                     4.0                \n",
      "scikit-image            0.17.2             \n",
      "scikit-learn            0.24.1             \n",
      "scipy                   1.5.4              \n",
      "Send2Trash              1.5.0              \n",
      "setuptools              46.1.3.post20200330\n",
      "SimpleITK               2.0.2              \n",
      "six                     1.15.0             \n",
      "sklearn                 0.0                \n",
      "sniffio                 1.2.0              \n",
      "tensorboard             2.5.0              \n",
      "tensorboard-data-server 0.6.0              \n",
      "tensorboard-plugin-wit  1.8.0              \n",
      "tensorflow-addons       0.12.1             \n",
      "tensorflow-estimator    2.4.0              \n",
      "tensorflow-gpu          2.4.1              \n",
      "tensorlayer             2.2.3              \n",
      "termcolor               1.1.0              \n",
      "terminado               0.9.4              \n",
      "testpath                0.4.4              \n",
      "threadpoolctl           2.1.0              \n",
      "tifffile                2020.9.3           \n",
      "tools                   0.1.9              \n",
      "torch                   1.0.1              \n",
      "torchvision             0.2.0              \n",
      "tornado                 6.1                \n",
      "tqdm                    4.59.0             \n",
      "traceback2              1.4.0              \n",
      "traitlets               4.3.3              \n",
      "typeguard               2.12.0             \n",
      "typing-extensions       3.7.4.3            \n",
      "unittest2               1.1.0              \n",
      "urllib3                 1.25.9             \n",
      "wcwidth                 0.2.5              \n",
      "webencodings            0.5.1              \n",
      "Werkzeug                1.0.1              \n",
      "wheel                   0.36.2             \n",
      "widgetsnbextension      3.5.1              \n",
      "wrapt                   1.12.1             \n",
      "zipp                    3.4.1              \n",
      "Note: you may need to restart the kernel to use updated packages.\n"
     ]
    }
   ],
   "source": [
    "pip list"
   ]
  },
  {
   "cell_type": "code",
   "execution_count": 13,
   "id": "crude-arena",
   "metadata": {},
   "outputs": [
    {
     "name": "stdout",
     "output_type": "stream",
     "text": [
      "False\n"
     ]
    }
   ],
   "source": [
    "import tensorflow as tf\n",
    "print(tf.test.is_gpu_available())"
   ]
  },
  {
   "cell_type": "code",
   "execution_count": 11,
   "id": "certain-finnish",
   "metadata": {},
   "outputs": [
    {
     "name": "stdout",
     "output_type": "stream",
     "text": [
      "\n",
      "CommandNotFoundError: Your shell has not been properly configured to use 'conda activate'.\n",
      "To initialize your shell, run\n",
      "\n",
      "    $ conda init <SHELL_NAME>\n",
      "\n",
      "Currently supported shells are:\n",
      "  - bash\n",
      "  - fish\n",
      "  - tcsh\n",
      "  - xonsh\n",
      "  - zsh\n",
      "  - powershell\n",
      "\n",
      "See 'conda init --help' for more information and options.\n",
      "\n",
      "IMPORTANT: You may need to close and restart your shell after running 'conda init'.\n",
      "\n",
      "\n",
      "\n",
      "Note: you may need to restart the kernel to use updated packages.\n"
     ]
    }
   ],
   "source": [
    "conda activate tf23"
   ]
  },
  {
   "cell_type": "code",
   "execution_count": 8,
   "id": "stuffed-desktop",
   "metadata": {},
   "outputs": [
    {
     "ename": "SyntaxError",
     "evalue": "invalid syntax (<ipython-input-8-1ff7e74980d5>, line 1)",
     "output_type": "error",
     "traceback": [
      "\u001b[0;36m  File \u001b[0;32m\"<ipython-input-8-1ff7e74980d5>\"\u001b[0;36m, line \u001b[0;32m1\u001b[0m\n\u001b[0;31m    source activate py36\u001b[0m\n\u001b[0m                  ^\u001b[0m\n\u001b[0;31mSyntaxError\u001b[0m\u001b[0;31m:\u001b[0m invalid syntax\n"
     ]
    }
   ],
   "source": [
    "source activate py36\n"
   ]
  },
  {
   "cell_type": "code",
   "execution_count": null,
   "id": "central-wisdom",
   "metadata": {},
   "outputs": [],
   "source": []
  }
 ],
 "metadata": {
  "kernelspec": {
   "display_name": "Python 3",
   "language": "python",
   "name": "python3"
  },
  "language_info": {
   "codemirror_mode": {
    "name": "ipython",
    "version": 3
   },
   "file_extension": ".py",
   "mimetype": "text/x-python",
   "name": "python",
   "nbconvert_exporter": "python",
   "pygments_lexer": "ipython3",
   "version": "3.6.10"
  }
 },
 "nbformat": 4,
 "nbformat_minor": 5
}
