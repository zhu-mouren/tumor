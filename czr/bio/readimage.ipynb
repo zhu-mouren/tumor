{
 "cells": [
  {
   "cell_type": "code",
   "execution_count": 9,
   "id": "rental-omaha",
   "metadata": {},
   "outputs": [],
   "source": [
    "import SimpleITK as sitk\n",
    "import numpy as np\n",
    "import nibabel as nib\n",
    "import cv2\n",
    "import matplotlib.pyplot as plt\n",
    "np.set_printoptions(threshold=np.inf)"
   ]
  },
  {
   "cell_type": "code",
   "execution_count": 20,
   "id": "fresh-canada",
   "metadata": {},
   "outputs": [
    {
     "name": "stdout",
     "output_type": "stream",
     "text": [
      "(256, 256, 256)\n",
      "(256, 256, 256)\n"
     ]
    },
    {
     "data": {
      "image/png": "[encoded data removed]",
      "text/plain": [
       "<Figure size 432x288 with 1 Axes>"
      ]
     },
     "metadata": {
      "needs_background": "light"
     },
     "output_type": "display_data"
    }
   ],
   "source": [
    "# path = '/data0/brain/OASIS_OAS1_0399_MR1ls/aligned_norm.nii.gz' #segmentation volume\n",
    "# ds = sitk.ReadImage(path)\n",
    "# data = sitk.GetArrayFromImage(ds)\n",
    "# solor/out_seg35.nii.gz\n",
    "filedir_1 = \"/data0/brain/OASIS_OAS1_0310_MR1/seg35.nii.gz\"\n",
    "data1 = np.asarray(nib.load(filedir_1).dataobj)\n",
    "filedir_2 = \"/home/brain1/ants-example1/Test_OASIS_OAS1_0311To0310_OutputANTsPy/ElasticSyNlabel.nii.gz\"\n",
    "data2 = np.asarray(nib.load(filedir_2).dataobj)\n",
    "# filedir = \"/home/brain1/solor/out_seg35.nii.gz\"\n",
    "# data1 = np.asarray(nib.load(filedir).dataobj)\n",
    "# filedir2 = \"/home/brain1/solor/seg35.nii.gz\"\n",
    "# data2 = np.asarray(nib.load(filedir2).dataobj)\n",
    "print(data1.shape)\n",
    "print(data2.shape)\n",
    "plt.imshow(data1[:,:,90],'gray') # 显示图片\n",
    "plt.show()"
   ]
  },
  {
   "cell_type": "code",
   "execution_count": 26,
   "id": "available-punch",
   "metadata": {},
   "outputs": [],
   "source": [
    "def dice_equation(mask1, mask2,intersection_sum,union_Sum,i):\n",
    "    intersection = (mask1 * mask2).sum()\n",
    "    union = (mask1 + mask2).sum()\n",
    "    print(intersection) # 打印交点数目\n",
    "    print(union) # 打印总点数\n",
    "    if union != 0: \n",
    "        dices = float((2 * intersection) / union) # 计算dice\n",
    "        # 点数加和\n",
    "        intersection_sum+=intersection \n",
    "        union_Sum+=union\n",
    "        if i==0: # 排除0标签\n",
    "            intersection_sum=0\n",
    "            union_Sum=0\n",
    "    else:\n",
    "        dices = 0\n",
    "    return dices,intersection_sum,union_Sum\n",
    "\n",
    "\n",
    "\n",
    "def divide_dices(mask1_, \n",
    "                 mask2_, \n",
    "#                  a:{\"我需要三维narry\"},\n",
    "#                  b,\n",
    "                 times: int = 36):\n",
    "    intersection_sum=0 # 总交点\n",
    "    union_Sum=0 # 总点数\n",
    "    sum1=0 # 平均数分子，分母是times-1\n",
    "\n",
    "#     intersection_sum2=0\n",
    "#     union_Sum2=0\n",
    "    for i in range(0, times):\n",
    "#         print(i)\n",
    "        \n",
    "        mask_one = np.where(mask1_ == i, 1, 0)\n",
    "        mask_two = np.where(mask2_ == i, 1, 0)\n",
    "#         mask_1 = np.where(a == i, 1, 0)\n",
    "#         mask_2 = np.where(b == i, 1, 0)\n",
    "\n",
    "        info1,intersection_sum,union_Sum = dice_equation(mask_one, mask_two,intersection_sum,union_Sum,i)\n",
    "        sum1+=info1\n",
    "#         info2 = dice_equation(mask_1, mask_2,intersection_sum,union_Sum)\n",
    "        print(i,\">>>\",info1)\n",
    "        if i==0:\n",
    "            sum1=0\n",
    "        if i==times-1:\n",
    "            print(intersection_sum,union_Sum)\n",
    "            print(\"加权平均\",2*intersection_sum/union_Sum)\n",
    "            print(\"简单平均\",sum1/(times-1))"
   ]
  },
  {
   "cell_type": "code",
   "execution_count": 27,
   "id": "artificial-essence",
   "metadata": {},
   "outputs": [
    {
     "name": "stdout",
     "output_type": "stream",
     "text": [
      "35\n",
      "35.0\n"
     ]
    },
    {
     "data": {
      "image/png": "[encoded data removed]",
      "text/plain": [
       "<Figure size 432x288 with 1 Axes>"
      ]
     },
     "metadata": {
      "needs_background": "light"
     },
     "output_type": "display_data"
    },
    {
     "data": {
      "image/png": "[encoded data removed]",
      "text/plain": [
       "<Figure size 432x288 with 1 Axes>"
      ]
     },
     "metadata": {
      "needs_background": "light"
     },
     "output_type": "display_data"
    },
    {
     "name": "stdout",
     "output_type": "stream",
     "text": [
      "15597613\n",
      "31356640\n",
      "0 >>> 0.9948523183606407\n",
      "167207\n",
      "411828\n",
      "1 >>> 0.8120234661072098\n",
      "164096\n",
      "461148\n",
      "2 >>> 0.7116847519668306\n",
      "7294\n",
      "18834\n",
      "3 >>> 0.7745566528618456\n",
      "99\n",
      "449\n",
      "4 >>> 0.44097995545657015\n",
      "11698\n",
      "27332\n",
      "5 >>> 0.8559929752670862\n",
      "46867\n",
      "104927\n",
      "6 >>> 0.8933258360574494\n",
      "6079\n",
      "13583\n",
      "7 >>> 0.8950894500478539\n",
      "3016\n",
      "7107\n",
      "8 >>> 0.848740678204587\n",
      "4877\n",
      "11056\n",
      "9 >>> 0.8822358900144718\n",
      "1436\n",
      "3391\n",
      "10 >>> 0.8469478030079622\n",
      "861\n",
      "2171\n",
      "11 >>> 0.7931828650391525\n",
      "1201\n",
      "2954\n",
      "12 >>> 0.8131347325660122\n",
      "18397\n",
      "40548\n",
      "13 >>> 0.9074183683535563\n",
      "3350\n",
      "7887\n",
      "14 >>> 0.8494991758590085\n",
      "1334\n",
      "3066\n",
      "15 >>> 0.8701891715590345\n",
      "637\n",
      "1480\n",
      "16 >>> 0.8608108108108108\n",
      "3464\n",
      "7976\n",
      "17 >>> 0.8686058174523571\n",
      "10\n",
      "64\n",
      "18 >>> 0.3125\n",
      "243\n",
      "1226\n",
      "19 >>> 0.3964110929853181\n",
      "164359\n",
      "409775\n",
      "20 >>> 0.8021914465255323\n",
      "157403\n",
      "451812\n",
      "21 >>> 0.6967632555133552\n",
      "7783\n",
      "19782\n",
      "22 >>> 0.7868769588514811\n",
      "111\n",
      "446\n",
      "23 >>> 0.4977578475336323\n",
      "11750\n",
      "28287\n",
      "24 >>> 0.8307703185208754\n",
      "45987\n",
      "104038\n",
      "25 >>> 0.8840423691343547\n",
      "5991\n",
      "13207\n",
      "26 >>> 0.9072461573408042\n",
      "3240\n",
      "7607\n",
      "27 >>> 0.8518469830419351\n",
      "4782\n",
      "10950\n",
      "28 >>> 0.8734246575342466\n",
      "1394\n",
      "3314\n",
      "29 >>> 0.8412794206397103\n",
      "3400\n",
      "7893\n",
      "30 >>> 0.8615228683643735\n",
      "1334\n",
      "3130\n",
      "31 >>> 0.8523961661341853\n",
      "520\n",
      "1343\n",
      "32 >>> 0.774385703648548\n",
      "3290\n",
      "7605\n",
      "33 >>> 0.8652202498356345\n",
      "16\n",
      "90\n",
      "34 >>> 0.35555555555555557\n",
      "417\n",
      "1486\n",
      "35 >>> 0.5612382234185733\n",
      "853943 2197792\n",
      "加权平均 0.7770917357056537\n",
      "简单平均 0.7678813621488547\n"
     ]
    }
   ],
   "source": [
    "data1 = np.around(data1,0)\n",
    "data2 = np.around(data2,0)\n",
    "print(data1.max())\n",
    "print(data2.max())\n",
    "plt.imshow(data1[:,:,80],'gray') # 显示图片\n",
    "plt.show()\n",
    "\n",
    "plt.imshow(data2[:,:,80],'gray') # 显示图片\n",
    "plt.show()\n",
    "\n",
    "# print(data1[:,100,90])\n",
    "# print(data2[:,100,90])\n",
    "\n",
    "divide_dices(data1,data2,36)\n",
    "\n"
   ]
  },
  {
   "cell_type": "code",
   "execution_count": null,
   "id": "lesbian-speaker",
   "metadata": {},
   "outputs": [],
   "source": [
    "filedir = \"/data0/brain/OASIS_OAS1_0399_MR1/aligned_orig.nii.gz\"\n",
    "data2 = np.asarray(nib.load(filedir).dataobj)\n",
    "print(data2.shape)\n",
    "plt.imshow(data2[:,:,50],'gray') # 显示图片\n",
    "plt.show()"
   ]
  },
  {
   "cell_type": "code",
   "execution_count": null,
   "id": "original-practitioner",
   "metadata": {},
   "outputs": [],
   "source": [
    "filedir = \"/data0/brain/OASIS_OAS1_0399_MR1/aligned_seg35.nii.gz\"\n",
    "data1 = np.asarray(nib.load(filedir).dataobj)\n",
    "print(data1.shape)\n",
    "plt.imshow(data1[:,:,50],'gray') # 显示图片\n",
    "plt.show()"
   ]
  },
  {
   "cell_type": "code",
   "execution_count": null,
   "id": "handmade-marker",
   "metadata": {},
   "outputs": [],
   "source": [
    "filedir = \"/data0/brain/OASIS_OAS1_0399_MR1/aligned_seg4.nii.gz\"\n",
    "data1 = np.asarray(nib.load(filedir).dataobj)\n",
    "print(data1.shape)\n",
    "plt.imshow(data1[:,:,50],'gray') # 显示图片\n",
    "plt.show()"
   ]
  },
  {
   "cell_type": "code",
   "execution_count": null,
   "id": "permanent-england",
   "metadata": {},
   "outputs": [],
   "source": [
    "filedir = \"/data0/brain/OASIS_OAS1_0399_MR1/norm.nii.gz\"\n",
    "data1 = np.asarray(nib.load(filedir).dataobj)\n",
    "print(data1.shape)\n",
    "plt.imshow(data1[:,:,180],'gray') # 显示图片\n",
    "plt.show()"
   ]
  },
  {
   "cell_type": "code",
   "execution_count": null,
   "id": "final-semiconductor",
   "metadata": {},
   "outputs": [],
   "source": [
    "filedir = \"/data0/brain/OASIS_OAS1_0399_MR1/orig.nii.gz\"\n",
    "data1 = np.asarray(nib.load(filedir).dataobj)\n",
    "print(data1.shape)\n",
    "plt.imshow(data1[:,:,50\n",
    "                ],'gray') # 显示图片\n",
    "plt.show()"
   ]
  },
  {
   "cell_type": "markdown",
   "id": "failing-triumph",
   "metadata": {},
   "source": [
    "filedir = \"/data0/brain/OASIS_OAS1_0399_MR1/slice_norm.nii.gz\"\n",
    "data1 = np.asarray(nib.load(filedir).dataobj)\n",
    "print(data1.shape)\n",
    "plt.imshow(data1[:,:,0],'gray') # 显示图片\n",
    "plt.show()"
   ]
  },
  {
   "cell_type": "code",
   "execution_count": null,
   "id": "average-glenn",
   "metadata": {},
   "outputs": [],
   "source": [
    "filedir = \"/data0/brain/OASIS_OAS1_0399_MR1/slice_norm.nii.gz\"\n",
    "data1 = np.asarray(nib.load(filedir).dataobj)\n",
    "print(data1.shape)\n",
    "plt.imshow(data1[:,:,0],'gray') # 显示图片\n",
    "plt.show()"
   ]
  },
  {
   "cell_type": "code",
   "execution_count": null,
   "id": "suspected-preliminary",
   "metadata": {},
   "outputs": [],
   "source": [
    "def dice_coefficient(a, b):\n",
    "    \"\"\"dice coefficient 2nt/na + nb.\"\"\"\n",
    "    diao = 0.001\n",
    "    a = a.reshape(-1)\n",
    "    b = b.reshape(-1)\n",
    "    res = (a*b).sum()\n",
    "    dice = (res*2)/(a.sum()+b.sum())+diao\n",
    "    return dice\n",
    "\n",
    "# filedir = \"/home/brain1/solor/out_seg35.nii.gz\"\n",
    "# data1 = np.asarray(nib.load(filedir).dataobj)\n",
    "# print(data1)\n",
    "print(data1.shape)\n",
    "print(data1.max())\n",
    "# plt.imshow(data1[:,:,79],'gray') # 显示图片\n",
    "# plt.show()\n",
    "\n",
    "# filedir =\"/home/brain1/solor/seg35.nii.gz\"\n",
    "# data2 = np.asarray(nib.load(filedir).dataobj)\n",
    "print(data2.max())\n",
    "print(data2.shape)\n",
    "\n",
    "\n",
    "\n",
    "dice = 0\n",
    "data1 = np.array(data3, dtype = float)\n",
    "data2 = np.array(data4, dtype = float)\n",
    "dice = dice_coefficient(data1,data2)\n",
    "print(dice)\n",
    "\n",
    "# info = set(list(data1))\n",
    "# print(data1[70])\n",
    "\n",
    "\n",
    "for k in range(0,256,10):\n",
    "    plt.figure()\n",
    "    plt.subplot(1,2,1)\n",
    "    plt.imshow(data1[:,:,k],'hot') # 显示图片\n",
    "    plt.subplot(1,2,2)\n",
    "    plt.imshow(data2[:,:,k],'hot') # 显示图片\n",
    "    plt.show()\n",
    "    "
   ]
  },
  {
   "cell_type": "code",
   "execution_count": null,
   "id": "experimental-teacher",
   "metadata": {},
   "outputs": [],
   "source": [
    "filedir = \"/data0/brain/OASIS_OAS1_0311_MR1/norm.nii.gz\"\n",
    "data1 = np.asarray(nib.load(filedir).dataobj)\n",
    "print(data1.shape)\n",
    "plt.imshow(data1[:,:,180],'gray') # 显示图片\n",
    "plt.show()"
   ]
  },
  {
   "cell_type": "code",
   "execution_count": null,
   "id": "strong-privilege",
   "metadata": {},
   "outputs": [],
   "source": [
    "filedir = \"/data0/brain/OASIS_OAS1_0310_MR1/norm.nii.gz\"\n",
    "data1 = np.asarray(nib.load(filedir).dataobj)\n",
    "print(data1.shape)\n",
    "plt.imshow(data1[:,:,180],'gray') # 显示图片\n",
    "plt.show()"
   ]
  },
  {
   "cell_type": "code",
   "execution_count": null,
   "id": "unknown-leisure",
   "metadata": {},
   "outputs": [],
   "source": [
    "import ants\n",
    "import os\n",
    "\n",
    "# Read in the images\n",
    "\n",
    "targetdir = '/data0/brain/OASIS_OAS1_0001_MR1/'\n",
    "registrationdir = '/data0/brain/OASIS_OAS1_0002_MR1/'\n",
    "\n",
    "fixedImageFile = targetdir + 'norm.nii.gz'\n",
    "fixedImage = ants.image_read( fixedImageFile, dimension = 3 )\n",
    "movingImageFile = registrationdir + 'norm.nii.gz'\n",
    "movingImage = ants.image_read( movingImageFile, dimension = 3 )"
   ]
  },
  {
   "cell_type": "code",
   "execution_count": null,
   "id": "indian-reproduction",
   "metadata": {},
   "outputs": [],
   "source": [
    "print(movingImage.Components)"
   ]
  },
  {
   "cell_type": "code",
   "execution_count": null,
   "id": "endless-painting",
   "metadata": {},
   "outputs": [],
   "source": []
  }
 ],
 "metadata": {
  "kernelspec": {
   "display_name": "Python 3",
   "language": "python",
   "name": "python3"
  },
  "language_info": {
   "codemirror_mode": {
    "name": "ipython",
    "version": 3
   },
   "file_extension": ".py",
   "mimetype": "text/x-python",
   "name": "python",
   "nbconvert_exporter": "python",
   "pygments_lexer": "ipython3",
   "version": "3.6.10"
  }
 },
 "nbformat": 4,
 "nbformat_minor": 5
}
