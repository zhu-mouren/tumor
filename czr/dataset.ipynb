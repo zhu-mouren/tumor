{
 "cells": [
  {
   "cell_type": "code",
   "execution_count": 8,
   "id": "controlled-indicator",
   "metadata": {},
   "outputs": [],
   "source": [
    "import os\n",
    "import numpy as np\n",
    "import SimpleITK as sitk"
   ]
  },
  {
   "cell_type": "code",
   "execution_count": 2,
   "id": "chinese-jumping",
   "metadata": {},
   "outputs": [],
   "source": [
    "flair_name = \"_flair.nii.gz\"\n",
    "t1_name = \"_t1.nii.gz\"\n",
    "t1ce_name = \"_t1ce.nii.gz\"\n",
    "t2_name = \"_t2.nii.gz\"\n",
    "mask_name = \"_seg.nii.gz\""
   ]
  },
  {
   "cell_type": "code",
   "execution_count": 5,
   "id": "impossible-island",
   "metadata": {},
   "outputs": [],
   "source": [
    "file_path = r\"/data0/BraTS2020/brats_test\"\n",
    "outputImg_path = r\"/data0/BraTS2020/testImage\"\n",
    "outputMask_path = r\"/data0/BraTS2020/testMask\""
   ]
  },
  {
   "cell_type": "code",
   "execution_count": 4,
   "id": "motivated-sweden",
   "metadata": {},
   "outputs": [],
   "source": [
    "if not os.path.exists(outputImg_path):\n",
    "    os.mkdir(outputImg_path)\n",
    "if not os.path.exists(outputMask_path):\n",
    "    os.mkdir(outputMask_path)"
   ]
  },
  {
   "cell_type": "code",
   "execution_count": 9,
   "id": "skilled-tuesday",
   "metadata": {},
   "outputs": [],
   "source": [
    "def file_name_path(file_dir, dir=True, file=False):\n",
    "    \"\"\"\n",
    "    get root path,sub_dirs,all_sub_files\n",
    "    :param file_dir:\n",
    "    :return: dir or file\n",
    "    \"\"\"\n",
    "    for root, dirs, files in os.walk(file_dir):\n",
    "        if len(dirs) and dir:\n",
    "            print(\"sub_dirs:\", dirs)\n",
    "            return dirs\n",
    "        if len(files) and file:\n",
    "            print(\"files:\", files)\n",
    "            return files"
   ]
  },
  {
   "cell_type": "code",
   "execution_count": 10,
   "id": "correct-expert",
   "metadata": {},
   "outputs": [
    {
     "name": "stdout",
     "output_type": "stream",
     "text": [
      "sub_dirs: ['BraTS20_Validation_096', 'BraTS20_Validation_119', 'BraTS20_Validation_002', 'BraTS20_Validation_106', 'BraTS20_Validation_118', 'BraTS20_Validation_001', 'BraTS20_Validation_086', 'BraTS20_Validation_082', 'BraTS20_Validation_024', 'BraTS20_Validation_067', 'BraTS20_Validation_057', 'BraTS20_Validation_063', 'BraTS20_Validation_116', 'BraTS20_Validation_010', 'BraTS20_Validation_104', 'BraTS20_Validation_094', 'BraTS20_Validation_107', 'BraTS20_Validation_105', 'BraTS20_Validation_071', 'BraTS20_Validation_085', 'BraTS20_Validation_034', 'BraTS20_Validation_120', 'BraTS20_Validation_056', 'BraTS20_Validation_065', 'BraTS20_Validation_087', 'BraTS20_Validation_047', 'BraTS20_Validation_089', 'BraTS20_Validation_009', 'BraTS20_Validation_112', 'BraTS20_Validation_003', 'BraTS20_Validation_061', 'BraTS20_Validation_115', 'BraTS20_Validation_075', 'BraTS20_Validation_072', 'BraTS20_Validation_073', 'BraTS20_Validation_015', 'BraTS20_Validation_054', 'BraTS20_Validation_036', 'BraTS20_Validation_069', 'BraTS20_Validation_026', 'BraTS20_Validation_068', 'BraTS20_Validation_030', 'BraTS20_Validation_013', 'BraTS20_Validation_108', 'BraTS20_Validation_060', 'BraTS20_Validation_032', 'BraTS20_Validation_004', 'BraTS20_Validation_044', 'BraTS20_Validation_125', 'BraTS20_Validation_062', 'BraTS20_Validation_099', 'BraTS20_Validation_006', 'BraTS20_Validation_048', 'BraTS20_Validation_055', 'BraTS20_Validation_113', 'BraTS20_Validation_007', 'BraTS20_Validation_097', 'BraTS20_Validation_102', 'BraTS20_Validation_041', 'BraTS20_Validation_109', 'BraTS20_Validation_005', 'BraTS20_Validation_124', 'BraTS20_Validation_079', 'BraTS20_Validation_046', 'BraTS20_Validation_033', 'BraTS20_Validation_043', 'BraTS20_Validation_080', 'BraTS20_Validation_031', 'BraTS20_Validation_091', 'BraTS20_Validation_059', 'BraTS20_Validation_081', 'BraTS20_Validation_101', 'BraTS20_Validation_122', 'BraTS20_Validation_121', 'BraTS20_Validation_045', 'BraTS20_Validation_114', 'BraTS20_Validation_092', 'BraTS20_Validation_040', 'BraTS20_Validation_103', 'BraTS20_Validation_050', 'BraTS20_Validation_012', 'BraTS20_Validation_098', 'BraTS20_Validation_074', 'BraTS20_Validation_088', 'BraTS20_Validation_018', 'BraTS20_Validation_037', 'BraTS20_Validation_039', 'BraTS20_Validation_028', 'BraTS20_Validation_077', 'BraTS20_Validation_100', 'BraTS20_Validation_016', 'BraTS20_Validation_084', 'BraTS20_Validation_019', 'BraTS20_Validation_022', 'BraTS20_Validation_021', 'BraTS20_Validation_111', 'BraTS20_Validation_090', 'BraTS20_Validation_038', 'BraTS20_Validation_053', 'BraTS20_Validation_117', 'BraTS20_Validation_051', 'BraTS20_Validation_093', 'BraTS20_Validation_027', 'BraTS20_Validation_025', 'BraTS20_Validation_042', 'BraTS20_Validation_123', 'BraTS20_Validation_076', 'BraTS20_Validation_058', 'BraTS20_Validation_049', 'BraTS20_Validation_110', 'BraTS20_Validation_070', 'BraTS20_Validation_011', 'BraTS20_Validation_083', 'BraTS20_Validation_017', 'BraTS20_Validation_020', 'BraTS20_Validation_064', 'BraTS20_Validation_023', 'BraTS20_Validation_066', 'BraTS20_Validation_035', 'BraTS20_Validation_078', 'BraTS20_Validation_008', 'BraTS20_Validation_014', 'BraTS20_Validation_095', 'BraTS20_Validation_052', 'BraTS20_Validation_029']\n"
     ]
    }
   ],
   "source": [
    "path_list = file_name_path(file_path)\n"
   ]
  },
  {
   "cell_type": "code",
   "execution_count": 7,
   "id": "failing-territory",
   "metadata": {},
   "outputs": [],
   "source": [
    "def normalize(slice, bottom=99, down=1):\n",
    "    \"\"\"\n",
    "    normalize image with mean and std for regionnonzero,and clip the value into range\n",
    "    :param slice:\n",
    "    :param bottom:\n",
    "    :param down:\n",
    "    :return:\n",
    "    \"\"\"\n",
    "    #有点像“去掉最低分去掉最高分”的意思,使得数据集更加“公平”\n",
    "    b = np.percentile(slice, bottom)\n",
    "    t = np.percentile(slice, down)\n",
    "    slice = np.clip(slice, t, b)#限定范围numpy.clip(a, a_min, a_max, out=None)\n",
    "\n",
    "    #除了黑色背景外的区域要进行标准化\n",
    "    image_nonzero = slice[np.nonzero(slice)]\n",
    "    if np.std(slice) == 0 or np.std(image_nonzero) == 0:\n",
    "        return slice\n",
    "    else:\n",
    "        tmp = (slice - np.mean(image_nonzero)) / np.std(image_nonzero)\n",
    "        # since the range of intensities is between 0 and 5000 ,\n",
    "        # the min in the normalized slice corresponds to 0 intensity in unnormalized slice\n",
    "        # the min is replaced with -9 just to keep track of 0 intensities\n",
    "        # so that we can discard those intensities afterwards when sampling random patches\n",
    "        tmp[tmp == tmp.min()] = -9 #黑色背景区域\n",
    "        return tmp"
   ]
  },
  {
   "cell_type": "code",
   "execution_count": 8,
   "id": "professional-medicine",
   "metadata": {},
   "outputs": [],
   "source": [
    "def crop_ceter(img,croph,cropw):\n",
    "    #for n_slice in range(img.shape[0]):\n",
    "    height,width = img[0].shape\n",
    "    starth = height//2-(croph//2)\n",
    "    startw = width//2-(cropw//2)\n",
    "    return img[:,starth:starth+croph,startw:startw+cropw]"
   ]
  },
  {
   "cell_type": "code",
   "execution_count": 9,
   "id": "center-affair",
   "metadata": {},
   "outputs": [
    {
     "ename": "RuntimeError",
     "evalue": "Exception thrown in SimpleITK ImageFileReader_Execute: /tmp/SimpleITK/Code/IO/src/sitkImageReaderBase.cxx:97:\nsitk::ERROR: The file \"/data0/BraTS2020/brats_test/BraTS20_Validation_096/BraTS20_Validation_096_seg.nii.gz\" does not exist.",
     "output_type": "error",
     "traceback": [
      "\u001b[0;31m---------------------------------------------------------------------------\u001b[0m",
      "\u001b[0;31mRuntimeError\u001b[0m                              Traceback (most recent call last)",
      "\u001b[0;32m<ipython-input-9-715d540dc890>\u001b[0m in \u001b[0;36m<module>\u001b[0;34m\u001b[0m\n\u001b[1;32m     12\u001b[0m     \u001b[0mt1ce_src\u001b[0m \u001b[0;34m=\u001b[0m \u001b[0msitk\u001b[0m\u001b[0;34m.\u001b[0m\u001b[0mReadImage\u001b[0m\u001b[0;34m(\u001b[0m\u001b[0mt1ce_image\u001b[0m\u001b[0;34m,\u001b[0m \u001b[0msitk\u001b[0m\u001b[0;34m.\u001b[0m\u001b[0msitkInt16\u001b[0m\u001b[0;34m)\u001b[0m\u001b[0;34m\u001b[0m\u001b[0;34m\u001b[0m\u001b[0m\n\u001b[1;32m     13\u001b[0m     \u001b[0mt2_src\u001b[0m \u001b[0;34m=\u001b[0m \u001b[0msitk\u001b[0m\u001b[0;34m.\u001b[0m\u001b[0mReadImage\u001b[0m\u001b[0;34m(\u001b[0m\u001b[0mt2_image\u001b[0m\u001b[0;34m,\u001b[0m \u001b[0msitk\u001b[0m\u001b[0;34m.\u001b[0m\u001b[0msitkInt16\u001b[0m\u001b[0;34m)\u001b[0m\u001b[0;34m\u001b[0m\u001b[0;34m\u001b[0m\u001b[0m\n\u001b[0;32m---> 14\u001b[0;31m     \u001b[0mmask\u001b[0m \u001b[0;34m=\u001b[0m \u001b[0msitk\u001b[0m\u001b[0;34m.\u001b[0m\u001b[0mReadImage\u001b[0m\u001b[0;34m(\u001b[0m\u001b[0mmask_image\u001b[0m\u001b[0;34m,\u001b[0m \u001b[0msitk\u001b[0m\u001b[0;34m.\u001b[0m\u001b[0msitkUInt8\u001b[0m\u001b[0;34m)\u001b[0m\u001b[0;34m\u001b[0m\u001b[0;34m\u001b[0m\u001b[0m\n\u001b[0m\u001b[1;32m     15\u001b[0m     \u001b[0;31m#GetArrayFromImage()可用于将SimpleITK对象转换为ndarray\u001b[0m\u001b[0;34m\u001b[0m\u001b[0;34m\u001b[0m\u001b[0;34m\u001b[0m\u001b[0m\n\u001b[1;32m     16\u001b[0m     \u001b[0mflair_array\u001b[0m \u001b[0;34m=\u001b[0m \u001b[0msitk\u001b[0m\u001b[0;34m.\u001b[0m\u001b[0mGetArrayFromImage\u001b[0m\u001b[0;34m(\u001b[0m\u001b[0mflair_src\u001b[0m\u001b[0;34m)\u001b[0m\u001b[0;34m\u001b[0m\u001b[0;34m\u001b[0m\u001b[0m\n",
      "\u001b[0;32m/home/dc2-user/anaconda3/envs/py36/lib/python3.6/site-packages/SimpleITK/extra.py\u001b[0m in \u001b[0;36mReadImage\u001b[0;34m(fileName, outputPixelType, imageIO)\u001b[0m\n\u001b[1;32m    344\u001b[0m     \u001b[0mreader\u001b[0m\u001b[0;34m.\u001b[0m\u001b[0mSetImageIO\u001b[0m\u001b[0;34m(\u001b[0m\u001b[0mimageIO\u001b[0m\u001b[0;34m)\u001b[0m\u001b[0;34m\u001b[0m\u001b[0;34m\u001b[0m\u001b[0m\n\u001b[1;32m    345\u001b[0m     \u001b[0mreader\u001b[0m\u001b[0;34m.\u001b[0m\u001b[0mSetOutputPixelType\u001b[0m\u001b[0;34m(\u001b[0m\u001b[0moutputPixelType\u001b[0m\u001b[0;34m)\u001b[0m\u001b[0;34m\u001b[0m\u001b[0;34m\u001b[0m\u001b[0m\n\u001b[0;32m--> 346\u001b[0;31m     \u001b[0;32mreturn\u001b[0m \u001b[0mreader\u001b[0m\u001b[0;34m.\u001b[0m\u001b[0mExecute\u001b[0m\u001b[0;34m(\u001b[0m\u001b[0;34m)\u001b[0m\u001b[0;34m\u001b[0m\u001b[0;34m\u001b[0m\u001b[0m\n\u001b[0m\u001b[1;32m    347\u001b[0m \u001b[0;34m\u001b[0m\u001b[0m\n\u001b[1;32m    348\u001b[0m \u001b[0;34m\u001b[0m\u001b[0m\n",
      "\u001b[0;32m/home/dc2-user/anaconda3/envs/py36/lib/python3.6/site-packages/SimpleITK/SimpleITK.py\u001b[0m in \u001b[0;36mExecute\u001b[0;34m(self)\u001b[0m\n\u001b[1;32m   5777\u001b[0m     \u001b[0;32mdef\u001b[0m \u001b[0mExecute\u001b[0m\u001b[0;34m(\u001b[0m\u001b[0mself\u001b[0m\u001b[0;34m)\u001b[0m\u001b[0;34m:\u001b[0m\u001b[0;34m\u001b[0m\u001b[0;34m\u001b[0m\u001b[0m\n\u001b[1;32m   5778\u001b[0m         \u001b[0;34mr\"\"\"Execute(ImageFileReader self) -> Image\"\"\"\u001b[0m\u001b[0;34m\u001b[0m\u001b[0;34m\u001b[0m\u001b[0m\n\u001b[0;32m-> 5779\u001b[0;31m         \u001b[0;32mreturn\u001b[0m \u001b[0m_SimpleITK\u001b[0m\u001b[0;34m.\u001b[0m\u001b[0mImageFileReader_Execute\u001b[0m\u001b[0;34m(\u001b[0m\u001b[0mself\u001b[0m\u001b[0;34m)\u001b[0m\u001b[0;34m\u001b[0m\u001b[0;34m\u001b[0m\u001b[0m\n\u001b[0m\u001b[1;32m   5780\u001b[0m \u001b[0;34m\u001b[0m\u001b[0m\n\u001b[1;32m   5781\u001b[0m     \u001b[0;32mdef\u001b[0m \u001b[0mReadImageInformation\u001b[0m\u001b[0;34m(\u001b[0m\u001b[0mself\u001b[0m\u001b[0;34m)\u001b[0m\u001b[0;34m:\u001b[0m\u001b[0;34m\u001b[0m\u001b[0;34m\u001b[0m\u001b[0m\n",
      "\u001b[0;31mRuntimeError\u001b[0m: Exception thrown in SimpleITK ImageFileReader_Execute: /tmp/SimpleITK/Code/IO/src/sitkImageReaderBase.cxx:97:\nsitk::ERROR: The file \"/data0/BraTS2020/brats_test/BraTS20_Validation_096/BraTS20_Validation_096_seg.nii.gz\" does not exist."
     ]
    }
   ],
   "source": [
    "for subsetindex in range(len(path_list)):\n",
    "    brats_subset_path = file_path + \"/\" + str(path_list[subsetindex]) + \"/\"\n",
    "    #获取每个病例的四个模态及Mask的路径\n",
    "    flair_image = brats_subset_path + str(path_list[subsetindex]) + flair_name\n",
    "    t1_image = brats_subset_path + str(path_list[subsetindex]) + t1_name\n",
    "    t1ce_image = brats_subset_path + str(path_list[subsetindex]) + t1ce_name\n",
    "    t2_image = brats_subset_path + str(path_list[subsetindex]) + t2_name\n",
    "    mask_image = brats_subset_path + str(path_list[subsetindex]) + mask_name\n",
    "    #获取每个病例的四个模态及Mask数据\n",
    "    flair_src = sitk.ReadImage(flair_image, sitk.sitkInt16)\n",
    "    t1_src = sitk.ReadImage(t1_image, sitk.sitkInt16)\n",
    "    t1ce_src = sitk.ReadImage(t1ce_image, sitk.sitkInt16)\n",
    "    t2_src = sitk.ReadImage(t2_image, sitk.sitkInt16)\n",
    "    mask = sitk.ReadImage(mask_image, sitk.sitkUInt8)\n",
    "    #GetArrayFromImage()可用于将SimpleITK对象转换为ndarray\n",
    "    flair_array = sitk.GetArrayFromImage(flair_src)\n",
    "    t1_array = sitk.GetArrayFromImage(t1_src)\n",
    "    t1ce_array = sitk.GetArrayFromImage(t1ce_src)\n",
    "    t2_array = sitk.GetArrayFromImage(t2_src)\n",
    "    mask_array = sitk.GetArrayFromImage(mask)\n",
    "    #对四个模态分别进行标准化,由于它们对比度不同\n",
    "    flair_array_nor = normalize(flair_array)\n",
    "    t1_array_nor = normalize(t1_array)\n",
    "    t1ce_array_nor = normalize(t1ce_array)\n",
    "    t2_array_nor = normalize(t2_array)\n",
    "    #裁剪(偶数才行)\n",
    "    flair_crop = crop_ceter(flair_array_nor,160,160)\n",
    "    t1_crop = crop_ceter(t1_array_nor,160,160)\n",
    "    t1ce_crop = crop_ceter(t1ce_array_nor,160,160)\n",
    "    t2_crop = crop_ceter(t2_array_nor,160,160)\n",
    "    mask_crop = crop_ceter(mask_array,160,160)\n",
    "    print(str(path_list[subsetindex]))\n",
    "    #切片处理,并去掉没有病灶的切片\n",
    "    for n_slice in range(flair_crop.shape[0]):\n",
    "        if np.max(mask_crop[n_slice,:,:]) != 0:\n",
    "            maskImg = mask_crop[n_slice,:,:]\n",
    "            \n",
    "            FourModelImageArray = np.zeros((flair_crop.shape[1],flair_crop.shape[2],4),np.float)\n",
    "            flairImg = flair_crop[n_slice,:,:]\n",
    "            flairImg = flairImg.astype(np.float)\n",
    "            FourModelImageArray[:,:,0] = flairImg\n",
    "            t1Img = t1_crop[n_slice,:,:]\n",
    "            t1Img = t1Img.astype(np.float)\n",
    "            FourModelImageArray[:,:,1] = t1Img\n",
    "            t1ceImg = t1ce_crop[n_slice,:,:]\n",
    "            t1ceImg = t1ceImg.astype(np.float)\n",
    "            FourModelImageArray[:,:,2] = t1ceImg\n",
    "            t2Img = t2_crop[n_slice,:,:]\n",
    "            t2Img = t2Img.astype(np.float)\n",
    "            FourModelImageArray[:,:,3] = t2Img       \n",
    "        \n",
    "            imagepath = outputImg_path + \"/\" + str(path_list[subsetindex]) + \"_\" + str(n_slice) + \".npy\"\n",
    "            maskpath = outputMask_path + \"/\" + str(path_list[subsetindex]) + \"_\" + str(n_slice) + \".npy\"\n",
    "            np.save(imagepath,FourModelImageArray)#(160,160,4) np.float dtype('float64')\n",
    "            np.save(maskpath,maskImg)# (160, 160) dtype('uint8') 值为0 1 2 4\n",
    "print(\"Done！\")"
   ]
  },
  {
   "cell_type": "code",
   "execution_count": 4,
   "id": "otherwise-mercury",
   "metadata": {},
   "outputs": [
    {
     "name": "stdout",
     "output_type": "stream",
     "text": [
      "\n",
      "CommandNotFoundError: Your shell has not been properly configured to use 'conda activate'.\n",
      "To initialize your shell, run\n",
      "\n",
      "    $ conda init <SHELL_NAME>\n",
      "\n",
      "Currently supported shells are:\n",
      "  - bash\n",
      "  - fish\n",
      "  - tcsh\n",
      "  - xonsh\n",
      "  - zsh\n",
      "  - powershell\n",
      "\n",
      "See 'conda init --help' for more information and options.\n",
      "\n",
      "IMPORTANT: You may need to close and restart your shell after running 'conda init'.\n",
      "\n",
      "\n",
      "\n",
      "Note: you may need to restart the kernel to use updated packages.\n"
     ]
    }
   ],
   "source": [
    "conda activate tf23"
   ]
  },
  {
   "cell_type": "code",
   "execution_count": 1,
   "id": "apart-inventory",
   "metadata": {},
   "outputs": [],
   "source": [
    "import tensorflow as tf"
   ]
  },
  {
   "cell_type": "code",
   "execution_count": null,
   "id": "occupational-penny",
   "metadata": {},
   "outputs": [],
   "source": []
  },
  {
   "cell_type": "code",
   "execution_count": 2,
   "id": "partial-connectivity",
   "metadata": {},
   "outputs": [
    {
     "name": "stdout",
     "output_type": "stream",
     "text": [
      "2.4.1\n"
     ]
    }
   ],
   "source": [
    "print(tf.__version__)"
   ]
  },
  {
   "cell_type": "code",
   "execution_count": 3,
   "id": "floral-velvet",
   "metadata": {},
   "outputs": [
    {
     "name": "stdout",
     "output_type": "stream",
     "text": [
      "WARNING:tensorflow:From <ipython-input-3-ae932be897c3>:1: is_gpu_available (from tensorflow.python.framework.test_util) is deprecated and will be removed in a future version.\n",
      "Instructions for updating:\n",
      "Use `tf.config.list_physical_devices('GPU')` instead.\n",
      "False\n"
     ]
    }
   ],
   "source": [
    "print(tf.test.is_gpu_available())"
   ]
  },
  {
   "cell_type": "code",
   "execution_count": null,
   "id": "accompanied-delay",
   "metadata": {},
   "outputs": [],
   "source": []
  }
 ],
 "metadata": {
  "kernelspec": {
   "display_name": "Python 3",
   "language": "python",
   "name": "python3"
  },
  "language_info": {
   "codemirror_mode": {
    "name": "ipython",
    "version": 3
   },
   "file_extension": ".py",
   "mimetype": "text/x-python",
   "name": "python",
   "nbconvert_exporter": "python",
   "pygments_lexer": "ipython3",
   "version": "3.6.10"
  }
 },
 "nbformat": 4,
 "nbformat_minor": 5
}
