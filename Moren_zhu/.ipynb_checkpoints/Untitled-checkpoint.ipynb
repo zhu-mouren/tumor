{
 "cells": [
  {
   "cell_type": "code",
   "execution_count": 1,
   "id": "blocked-strike",
   "metadata": {},
   "outputs": [
    {
     "name": "stdout",
     "output_type": "stream",
     "text": [
      "Package                 Version            \n",
      "----------------------- -------------------\n",
      "absl-py                 0.12.0             \n",
      "antspyx                 0.2.7              \n",
      "anyio                   2.2.0              \n",
      "argon2-cffi             20.1.0             \n",
      "astor                   0.8.0              \n",
      "astunparse              1.6.3              \n",
      "async-generator         1.10               \n",
      "attrs                   20.3.0             \n",
      "Babel                   2.9.0              \n",
      "backcall                0.2.0              \n",
      "batchgenerators         0.21               \n",
      "bleach                  3.3.0              \n",
      "cachetools              4.1.0              \n",
      "certifi                 2020.4.5.1         \n",
      "cffi                    1.14.0             \n",
      "chardet                 3.0.4              \n",
      "chart-studio            1.1.0              \n",
      "click                   8.0.1              \n",
      "cloudpickle             1.6.0              \n",
      "contextvars             2.4                \n",
      "cycler                  0.10.0             \n",
      "dataclasses             0.8                \n",
      "decorator               4.4.2              \n",
      "defusedxml              0.7.1              \n",
      "dicom2nifti             2.2.12             \n",
      "entrypoints             0.3                \n",
      "Flask                   2.0.1              \n",
      "flatbuffers             1.12               \n",
      "future                  0.16.0             \n",
      "gast                    0.3.3              \n",
      "google-auth             1.14.1             \n",
      "google-auth-oauthlib    0.4.1              \n",
      "google-pasta            0.2.0              \n",
      "grpcio                  1.32.0             \n",
      "h5py                    2.10.0             \n",
      "hausdorff               0.2.5              \n",
      "idna                    2.9                \n",
      "imageio                 2.9.0              \n",
      "immutables              0.15               \n",
      "importlib-metadata      3.10.0             \n",
      "ipykernel               5.5.3              \n",
      "ipython                 7.16.1             \n",
      "ipython-genutils        0.2.0              \n",
      "ipywidgets              7.6.3              \n",
      "itsdangerous            2.0.1              \n",
      "jedi                    0.18.0             \n",
      "Jinja2                  3.0.1              \n",
      "joblib                  1.0.1              \n",
      "json5                   0.9.5              \n",
      "jsonschema              3.2.0              \n",
      "jupyter                 1.0.0              \n",
      "jupyter-client          6.1.12             \n",
      "jupyter-console         6.4.0              \n",
      "jupyter-core            4.7.1              \n",
      "jupyter-packaging       0.7.12             \n",
      "jupyter-server          1.5.1              \n",
      "jupyterlab              3.0.12             \n",
      "jupyterlab-pygments     0.1.2              \n",
      "jupyterlab-server       2.4.0              \n",
      "jupyterlab-widgets      1.0.0              \n",
      "Keras                   2.2.4              \n",
      "Keras-Applications      1.0.8              \n",
      "Keras-Preprocessing     1.1.2              \n",
      "keras-tqdm              2.0.1              \n",
      "kiwisolver              1.3.1              \n",
      "linecache2              1.0.0              \n",
      "llvmlite                0.36.0             \n",
      "lxml                    4.5.0              \n",
      "Markdown                3.1.1              \n",
      "MarkupSafe              2.0.1              \n",
      "matplotlib              2.2.5              \n",
      "MedPy                   0.4.0              \n",
      "mistune                 0.8.4              \n",
      "mkl-fft                 1.0.15             \n",
      "mkl-random              1.1.0              \n",
      "mkl-service             2.3.0              \n",
      "mock                    4.0.1              \n",
      "nbclassic               0.2.6              \n",
      "nbclient                0.5.3              \n",
      "nbconvert               6.0.7              \n",
      "nbformat                5.1.2              \n",
      "nest-asyncio            1.5.1              \n",
      "networkx                2.5                \n",
      "neuralgym               0.0.1              \n",
      "nibabel                 3.2.1              \n",
      "notebook                6.3.0              \n",
      "numba                   0.53.1             \n",
      "numpy                   1.19.5             \n",
      "oauthlib                3.1.0              \n",
      "opencv-python           3.4.13.47          \n",
      "opt-einsum              3.3.0              \n",
      "packaging               20.9               \n",
      "pandas                  1.1.5              \n",
      "pandocfilters           1.4.3              \n",
      "parso                   0.8.2              \n",
      "patsy                   0.5.1              \n",
      "pexpect                 4.8.0              \n",
      "pickleshare             0.7.5              \n",
      "Pillow                  8.2.0              \n",
      "pip                     20.0.2             \n",
      "plotly                  4.14.3             \n",
      "progressbar2            3.53.1             \n",
      "prometheus-client       0.9.0              \n",
      "prompt-toolkit          3.0.18             \n",
      "protobuf                3.11.4             \n",
      "ptyprocess              0.7.0              \n",
      "pyaml                   20.4.0             \n",
      "pyasn1                  0.4.8              \n",
      "pyasn1-modules          0.2.8              \n",
      "pycparser               2.20               \n",
      "pydicom                 2.1.2              \n",
      "Pygments                2.8.1              \n",
      "pyparsing               2.4.7              \n",
      "pyrsistent              0.17.3             \n",
      "python-dateutil         2.8.1              \n",
      "python-utils            2.5.6              \n",
      "pytils                  0.3                \n",
      "pytz                    2021.1             \n",
      "PyWavelets              1.1.1              \n",
      "PyYAML                  5.4.1              \n",
      "pyzmq                   22.0.3             \n",
      "qtconsole               5.0.3              \n",
      "QtPy                    1.9.0              \n",
      "requests                2.23.0             \n",
      "requests-oauthlib       1.3.0              \n",
      "retrying                1.3.3              \n",
      "rsa                     4.0                \n",
      "scikit-image            0.17.2             \n",
      "scikit-learn            0.24.1             \n",
      "scipy                   1.5.4              \n",
      "Send2Trash              1.5.0              \n",
      "setuptools              46.1.3.post20200330\n",
      "SimpleITK               2.0.2              \n",
      "six                     1.15.0             \n",
      "sklearn                 0.0                \n",
      "sniffio                 1.2.0              \n",
      "statsmodels             0.12.2             \n",
      "tensorboard             2.5.0              \n",
      "tensorboard-data-server 0.6.0              \n",
      "tensorboard-plugin-wit  1.8.0              \n",
      "tensorflow-addons       0.12.1             \n",
      "tensorflow-estimator    2.4.0              \n",
      "tensorflow-gpu          2.4.1              \n",
      "tensorlayer             2.2.3              \n",
      "termcolor               1.1.0              \n",
      "terminado               0.9.4              \n",
      "testpath                0.4.4              \n",
      "threadpoolctl           2.1.0              \n",
      "tifffile                2020.9.3           \n",
      "tools                   0.1.9              \n",
      "torch                   1.0.1              \n",
      "torchvision             0.2.0              \n",
      "tornado                 6.1                \n",
      "tqdm                    4.59.0             \n",
      "traceback2              1.4.0              \n",
      "traitlets               4.3.3              \n",
      "typeguard               2.12.0             \n",
      "typing-extensions       3.7.4.3            \n",
      "unittest2               1.1.0              \n",
      "urllib3                 1.25.9             \n",
      "wcwidth                 0.2.5              \n",
      "webcolors               1.11.1             \n",
      "webencodings            0.5.1              \n",
      "Werkzeug                2.0.1              \n",
      "wheel                   0.36.2             \n",
      "widgetsnbextension      3.5.1              \n",
      "wrapt                   1.12.1             \n",
      "zipp                    3.4.1              \n",
      "Note: you may need to restart the kernel to use updated packages.\n"
     ]
    }
   ],
   "source": [
    "pip list"
   ]
  },
  {
   "cell_type": "code",
   "execution_count": 28,
   "id": "fossil-quest",
   "metadata": {},
   "outputs": [],
   "source": [
    "import tensorflow as tf"
   ]
  },
  {
   "cell_type": "code",
   "execution_count": 29,
   "id": "alone-plant",
   "metadata": {},
   "outputs": [],
   "source": [
    "root = tf.train.Checkpoint()"
   ]
  },
  {
   "cell_type": "code",
   "execution_count": 30,
   "id": "rational-fraud",
   "metadata": {},
   "outputs": [],
   "source": [
    "root.v1 = tf.Variable(3.)"
   ]
  },
  {
   "cell_type": "code",
   "execution_count": 31,
   "id": "northern-hollywood",
   "metadata": {},
   "outputs": [],
   "source": [
    "root.v2 = tf.Variable(2.)"
   ]
  },
  {
   "cell_type": "code",
   "execution_count": 32,
   "id": "upset-binding",
   "metadata": {},
   "outputs": [],
   "source": [
    "root.f = tf.function(lambda x: root.v1 * root.v2 * x)\n"
   ]
  },
  {
   "cell_type": "code",
   "execution_count": 33,
   "id": "formal-tender",
   "metadata": {},
   "outputs": [],
   "source": [
    "export_dir = \"/tmp/test_saved_model\""
   ]
  },
  {
   "cell_type": "code",
   "execution_count": 34,
   "id": "inappropriate-gasoline",
   "metadata": {},
   "outputs": [],
   "source": [
    "input_data = tf.constant(1., shape=[1, 1])"
   ]
  },
  {
   "cell_type": "code",
   "execution_count": 35,
   "id": "crucial-elite",
   "metadata": {},
   "outputs": [],
   "source": [
    "to_save = root.f.get_concrete_function(input_data)"
   ]
  },
  {
   "cell_type": "code",
   "execution_count": 36,
   "id": "crazy-divide",
   "metadata": {},
   "outputs": [
    {
     "ename": "PermissionDeniedError",
     "evalue": "/Users; Permission denied",
     "output_type": "error",
     "traceback": [
      "\u001b[0;31m---------------------------------------------------------------------------\u001b[0m",
      "\u001b[0;31mPermissionDeniedError\u001b[0m                     Traceback (most recent call last)",
      "\u001b[0;32m<ipython-input-36-55328b1ebcd7>\u001b[0m in \u001b[0;36m<module>\u001b[0;34m\u001b[0m\n\u001b[0;32m----> 1\u001b[0;31m \u001b[0mtf\u001b[0m\u001b[0;34m.\u001b[0m\u001b[0msaved_model\u001b[0m\u001b[0;34m.\u001b[0m\u001b[0msave\u001b[0m\u001b[0;34m(\u001b[0m\u001b[0mroot\u001b[0m\u001b[0;34m,\u001b[0m \u001b[0mexport_dir\u001b[0m\u001b[0;34m,\u001b[0m \u001b[0mto_save\u001b[0m\u001b[0;34m)\u001b[0m\u001b[0;34m\u001b[0m\u001b[0;34m\u001b[0m\u001b[0m\n\u001b[0m",
      "\u001b[0;32m~/.local/lib/python3.6/site-packages/tensorflow/python/saved_model/save.py\u001b[0m in \u001b[0;36msave\u001b[0;34m(obj, export_dir, signatures, options)\u001b[0m\n\u001b[1;32m   1036\u001b[0m   \u001b[0;31m# Write the checkpoint, copy assets into the assets directory, and write out\u001b[0m\u001b[0;34m\u001b[0m\u001b[0;34m\u001b[0m\u001b[0;34m\u001b[0m\u001b[0m\n\u001b[1;32m   1037\u001b[0m   \u001b[0;31m# the SavedModel proto itself.\u001b[0m\u001b[0;34m\u001b[0m\u001b[0;34m\u001b[0m\u001b[0;34m\u001b[0m\u001b[0m\n\u001b[0;32m-> 1038\u001b[0;31m   \u001b[0mutils_impl\u001b[0m\u001b[0;34m.\u001b[0m\u001b[0mget_or_create_variables_dir\u001b[0m\u001b[0;34m(\u001b[0m\u001b[0mexport_dir\u001b[0m\u001b[0;34m)\u001b[0m\u001b[0;34m\u001b[0m\u001b[0;34m\u001b[0m\u001b[0m\n\u001b[0m\u001b[1;32m   1039\u001b[0m   ckpt_options = checkpoint_options.CheckpointOptions(\n\u001b[1;32m   1040\u001b[0m       experimental_io_device=options.experimental_io_device)\n",
      "\u001b[0;32m~/.local/lib/python3.6/site-packages/tensorflow/python/saved_model/utils_impl.py\u001b[0m in \u001b[0;36mget_or_create_variables_dir\u001b[0;34m(export_dir)\u001b[0m\n\u001b[1;32m    218\u001b[0m   \u001b[0mvariables_dir\u001b[0m \u001b[0;34m=\u001b[0m \u001b[0mget_variables_dir\u001b[0m\u001b[0;34m(\u001b[0m\u001b[0mexport_dir\u001b[0m\u001b[0;34m)\u001b[0m\u001b[0;34m\u001b[0m\u001b[0;34m\u001b[0m\u001b[0m\n\u001b[1;32m    219\u001b[0m   \u001b[0;32mif\u001b[0m \u001b[0;32mnot\u001b[0m \u001b[0mfile_io\u001b[0m\u001b[0;34m.\u001b[0m\u001b[0mfile_exists\u001b[0m\u001b[0;34m(\u001b[0m\u001b[0mvariables_dir\u001b[0m\u001b[0;34m)\u001b[0m\u001b[0;34m:\u001b[0m\u001b[0;34m\u001b[0m\u001b[0;34m\u001b[0m\u001b[0m\n\u001b[0;32m--> 220\u001b[0;31m     \u001b[0mfile_io\u001b[0m\u001b[0;34m.\u001b[0m\u001b[0mrecursive_create_dir\u001b[0m\u001b[0;34m(\u001b[0m\u001b[0mvariables_dir\u001b[0m\u001b[0;34m)\u001b[0m\u001b[0;34m\u001b[0m\u001b[0;34m\u001b[0m\u001b[0m\n\u001b[0m\u001b[1;32m    221\u001b[0m   \u001b[0;32mreturn\u001b[0m \u001b[0mvariables_dir\u001b[0m\u001b[0;34m\u001b[0m\u001b[0;34m\u001b[0m\u001b[0m\n\u001b[1;32m    222\u001b[0m \u001b[0;34m\u001b[0m\u001b[0m\n",
      "\u001b[0;32m~/.local/lib/python3.6/site-packages/tensorflow/python/lib/io/file_io.py\u001b[0m in \u001b[0;36mrecursive_create_dir\u001b[0;34m(dirname)\u001b[0m\n\u001b[1;32m    466\u001b[0m     \u001b[0merrors\u001b[0m\u001b[0;34m.\u001b[0m\u001b[0mOpError\u001b[0m\u001b[0;34m:\u001b[0m \u001b[0mIf\u001b[0m \u001b[0mthe\u001b[0m \u001b[0moperation\u001b[0m \u001b[0mfails\u001b[0m\u001b[0;34m.\u001b[0m\u001b[0;34m\u001b[0m\u001b[0;34m\u001b[0m\u001b[0m\n\u001b[1;32m    467\u001b[0m   \"\"\"\n\u001b[0;32m--> 468\u001b[0;31m   \u001b[0mrecursive_create_dir_v2\u001b[0m\u001b[0;34m(\u001b[0m\u001b[0mdirname\u001b[0m\u001b[0;34m)\u001b[0m\u001b[0;34m\u001b[0m\u001b[0;34m\u001b[0m\u001b[0m\n\u001b[0m\u001b[1;32m    469\u001b[0m \u001b[0;34m\u001b[0m\u001b[0m\n\u001b[1;32m    470\u001b[0m \u001b[0;34m\u001b[0m\u001b[0m\n",
      "\u001b[0;32m~/.local/lib/python3.6/site-packages/tensorflow/python/lib/io/file_io.py\u001b[0m in \u001b[0;36mrecursive_create_dir_v2\u001b[0;34m(path)\u001b[0m\n\u001b[1;32m    481\u001b[0m     \u001b[0merrors\u001b[0m\u001b[0;34m.\u001b[0m\u001b[0mOpError\u001b[0m\u001b[0;34m:\u001b[0m \u001b[0mIf\u001b[0m \u001b[0mthe\u001b[0m \u001b[0moperation\u001b[0m \u001b[0mfails\u001b[0m\u001b[0;34m.\u001b[0m\u001b[0;34m\u001b[0m\u001b[0;34m\u001b[0m\u001b[0m\n\u001b[1;32m    482\u001b[0m   \"\"\"\n\u001b[0;32m--> 483\u001b[0;31m   \u001b[0m_pywrap_file_io\u001b[0m\u001b[0;34m.\u001b[0m\u001b[0mRecursivelyCreateDir\u001b[0m\u001b[0;34m(\u001b[0m\u001b[0mcompat\u001b[0m\u001b[0;34m.\u001b[0m\u001b[0mpath_to_bytes\u001b[0m\u001b[0;34m(\u001b[0m\u001b[0mpath\u001b[0m\u001b[0;34m)\u001b[0m\u001b[0;34m)\u001b[0m\u001b[0;34m\u001b[0m\u001b[0;34m\u001b[0m\u001b[0m\n\u001b[0m\u001b[1;32m    484\u001b[0m \u001b[0;34m\u001b[0m\u001b[0m\n\u001b[1;32m    485\u001b[0m \u001b[0;34m\u001b[0m\u001b[0m\n",
      "\u001b[0;31mPermissionDeniedError\u001b[0m: /Users; Permission denied"
     ]
    }
   ],
   "source": [
    "tf.saved_model.save(root, export_dir, to_save)"
   ]
  },
  {
   "cell_type": "code",
   "execution_count": 37,
   "id": "turned-albania",
   "metadata": {},
   "outputs": [
    {
     "ename": "OSError",
     "evalue": "SavedModel file does not exist at: /Users/richsimpson/Desktop/test_saved_model/{saved_model.pbtxt|saved_model.pb}",
     "output_type": "error",
     "traceback": [
      "\u001b[0;31m---------------------------------------------------------------------------\u001b[0m",
      "\u001b[0;31mOSError\u001b[0m                                   Traceback (most recent call last)",
      "\u001b[0;32m<ipython-input-37-b524889a14ea>\u001b[0m in \u001b[0;36m<module>\u001b[0;34m\u001b[0m\n\u001b[0;32m----> 1\u001b[0;31m \u001b[0mconverter\u001b[0m \u001b[0;34m=\u001b[0m \u001b[0mtf\u001b[0m\u001b[0;34m.\u001b[0m\u001b[0mlite\u001b[0m\u001b[0;34m.\u001b[0m\u001b[0mTFLiteConverter\u001b[0m\u001b[0;34m.\u001b[0m\u001b[0mfrom_saved_model\u001b[0m\u001b[0;34m(\u001b[0m\u001b[0mexport_dir\u001b[0m\u001b[0;34m)\u001b[0m\u001b[0;34m\u001b[0m\u001b[0;34m\u001b[0m\u001b[0m\n\u001b[0m",
      "\u001b[0;32m~/.local/lib/python3.6/site-packages/tensorflow/lite/python/lite.py\u001b[0m in \u001b[0;36mfrom_saved_model\u001b[0;34m(cls, saved_model_dir, signature_keys, tags)\u001b[0m\n\u001b[1;32m   1067\u001b[0m \u001b[0;34m\u001b[0m\u001b[0m\n\u001b[1;32m   1068\u001b[0m     \u001b[0;32mwith\u001b[0m \u001b[0mcontext\u001b[0m\u001b[0;34m.\u001b[0m\u001b[0meager_mode\u001b[0m\u001b[0;34m(\u001b[0m\u001b[0;34m)\u001b[0m\u001b[0;34m:\u001b[0m\u001b[0;34m\u001b[0m\u001b[0;34m\u001b[0m\u001b[0m\n\u001b[0;32m-> 1069\u001b[0;31m       \u001b[0msaved_model\u001b[0m \u001b[0;34m=\u001b[0m \u001b[0m_load\u001b[0m\u001b[0;34m(\u001b[0m\u001b[0msaved_model_dir\u001b[0m\u001b[0;34m,\u001b[0m \u001b[0mtags\u001b[0m\u001b[0;34m)\u001b[0m\u001b[0;34m\u001b[0m\u001b[0;34m\u001b[0m\u001b[0m\n\u001b[0m\u001b[1;32m   1070\u001b[0m     \u001b[0;32mif\u001b[0m \u001b[0;32mnot\u001b[0m \u001b[0msignature_keys\u001b[0m\u001b[0;34m:\u001b[0m\u001b[0;34m\u001b[0m\u001b[0;34m\u001b[0m\u001b[0m\n\u001b[1;32m   1071\u001b[0m       \u001b[0msignature_keys\u001b[0m \u001b[0;34m=\u001b[0m \u001b[0msaved_model\u001b[0m\u001b[0;34m.\u001b[0m\u001b[0msignatures\u001b[0m\u001b[0;34m\u001b[0m\u001b[0;34m\u001b[0m\u001b[0m\n",
      "\u001b[0;32m~/.local/lib/python3.6/site-packages/tensorflow/python/saved_model/load.py\u001b[0m in \u001b[0;36mload\u001b[0;34m(export_dir, tags, options)\u001b[0m\n\u001b[1;32m    857\u001b[0m     \u001b[0mValueError\u001b[0m\u001b[0;34m:\u001b[0m \u001b[0mIf\u001b[0m\u001b[0;31m \u001b[0m\u001b[0;31m`\u001b[0m\u001b[0mtags\u001b[0m\u001b[0;31m`\u001b[0m \u001b[0mdon\u001b[0m\u001b[0;31m'\u001b[0m\u001b[0mt\u001b[0m \u001b[0mmatch\u001b[0m \u001b[0ma\u001b[0m \u001b[0mMetaGraph\u001b[0m \u001b[0;32min\u001b[0m \u001b[0mthe\u001b[0m \u001b[0mSavedModel\u001b[0m\u001b[0;34m.\u001b[0m\u001b[0;34m\u001b[0m\u001b[0;34m\u001b[0m\u001b[0m\n\u001b[1;32m    858\u001b[0m   \"\"\"\n\u001b[0;32m--> 859\u001b[0;31m   \u001b[0;32mreturn\u001b[0m \u001b[0mload_internal\u001b[0m\u001b[0;34m(\u001b[0m\u001b[0mexport_dir\u001b[0m\u001b[0;34m,\u001b[0m \u001b[0mtags\u001b[0m\u001b[0;34m,\u001b[0m \u001b[0moptions\u001b[0m\u001b[0;34m)\u001b[0m\u001b[0;34m[\u001b[0m\u001b[0;34m\"root\"\u001b[0m\u001b[0;34m]\u001b[0m\u001b[0;34m\u001b[0m\u001b[0;34m\u001b[0m\u001b[0m\n\u001b[0m\u001b[1;32m    860\u001b[0m \u001b[0;34m\u001b[0m\u001b[0m\n\u001b[1;32m    861\u001b[0m \u001b[0;34m\u001b[0m\u001b[0m\n",
      "\u001b[0;32m~/.local/lib/python3.6/site-packages/tensorflow/python/saved_model/load.py\u001b[0m in \u001b[0;36mload_internal\u001b[0;34m(export_dir, tags, options, loader_cls, filters)\u001b[0m\n\u001b[1;32m    869\u001b[0m     \u001b[0mtags\u001b[0m \u001b[0;34m=\u001b[0m \u001b[0mnest\u001b[0m\u001b[0;34m.\u001b[0m\u001b[0mflatten\u001b[0m\u001b[0;34m(\u001b[0m\u001b[0mtags\u001b[0m\u001b[0;34m)\u001b[0m\u001b[0;34m\u001b[0m\u001b[0;34m\u001b[0m\u001b[0m\n\u001b[1;32m    870\u001b[0m   saved_model_proto, debug_info = (\n\u001b[0;32m--> 871\u001b[0;31m       loader_impl.parse_saved_model_with_debug_info(export_dir))\n\u001b[0m\u001b[1;32m    872\u001b[0m \u001b[0;34m\u001b[0m\u001b[0m\n\u001b[1;32m    873\u001b[0m   if (len(saved_model_proto.meta_graphs) == 1 and\n",
      "\u001b[0;32m~/.local/lib/python3.6/site-packages/tensorflow/python/saved_model/loader_impl.py\u001b[0m in \u001b[0;36mparse_saved_model_with_debug_info\u001b[0;34m(export_dir)\u001b[0m\n\u001b[1;32m     54\u001b[0m     \u001b[0mparsed\u001b[0m\u001b[0;34m.\u001b[0m \u001b[0mMissing\u001b[0m \u001b[0mgraph\u001b[0m \u001b[0mdebug\u001b[0m \u001b[0minfo\u001b[0m \u001b[0mfile\u001b[0m \u001b[0;32mis\u001b[0m \u001b[0mfine\u001b[0m\u001b[0;34m.\u001b[0m\u001b[0;34m\u001b[0m\u001b[0;34m\u001b[0m\u001b[0m\n\u001b[1;32m     55\u001b[0m   \"\"\"\n\u001b[0;32m---> 56\u001b[0;31m   \u001b[0msaved_model\u001b[0m \u001b[0;34m=\u001b[0m \u001b[0m_parse_saved_model\u001b[0m\u001b[0;34m(\u001b[0m\u001b[0mexport_dir\u001b[0m\u001b[0;34m)\u001b[0m\u001b[0;34m\u001b[0m\u001b[0;34m\u001b[0m\u001b[0m\n\u001b[0m\u001b[1;32m     57\u001b[0m \u001b[0;34m\u001b[0m\u001b[0m\n\u001b[1;32m     58\u001b[0m   debug_info_path = os.path.join(\n",
      "\u001b[0;32m~/.local/lib/python3.6/site-packages/tensorflow/python/saved_model/loader_impl.py\u001b[0m in \u001b[0;36mparse_saved_model\u001b[0;34m(export_dir)\u001b[0m\n\u001b[1;32m    112\u001b[0m                   (export_dir,\n\u001b[1;32m    113\u001b[0m                    \u001b[0mconstants\u001b[0m\u001b[0;34m.\u001b[0m\u001b[0mSAVED_MODEL_FILENAME_PBTXT\u001b[0m\u001b[0;34m,\u001b[0m\u001b[0;34m\u001b[0m\u001b[0;34m\u001b[0m\u001b[0m\n\u001b[0;32m--> 114\u001b[0;31m                    constants.SAVED_MODEL_FILENAME_PB))\n\u001b[0m\u001b[1;32m    115\u001b[0m \u001b[0;34m\u001b[0m\u001b[0m\n\u001b[1;32m    116\u001b[0m \u001b[0;34m\u001b[0m\u001b[0m\n",
      "\u001b[0;31mOSError\u001b[0m: SavedModel file does not exist at: /Users/richsimpson/Desktop/test_saved_model/{saved_model.pbtxt|saved_model.pb}"
     ]
    }
   ],
   "source": [
    "converter = tf.lite.TFLiteConverter.from_saved_model(export_dir)"
   ]
  },
  {
   "cell_type": "code",
   "execution_count": 38,
   "id": "conventional-jonathan",
   "metadata": {},
   "outputs": [],
   "source": [
    "tflite_model = converter.convert()"
   ]
  },
  {
   "cell_type": "code",
   "execution_count": 16,
   "id": "elementary-accounting",
   "metadata": {},
   "outputs": [
    {
     "name": "stdout",
     "output_type": "stream",
     "text": [
      "cat: saved_model: No such file or directory\n"
     ]
    }
   ],
   "source": [
    "cat s"
   ]
  },
  {
   "cell_type": "code",
   "execution_count": 15,
   "id": "hungarian-vision",
   "metadata": {},
   "outputs": [
    {
     "ename": "SyntaxError",
     "evalue": "invalid syntax (<ipython-input-15-e50b28e522f2>, line 1)",
     "output_type": "error",
     "traceback": [
      "\u001b[0;36m  File \u001b[0;32m\"<ipython-input-15-e50b28e522f2>\"\u001b[0;36m, line \u001b[0;32m1\u001b[0m\n\u001b[0;31m    show tflite_model\u001b[0m\n\u001b[0m                    ^\u001b[0m\n\u001b[0;31mSyntaxError\u001b[0m\u001b[0;31m:\u001b[0m invalid syntax\n"
     ]
    }
   ],
   "source": []
  },
  {
   "cell_type": "code",
   "execution_count": null,
   "id": "white-niagara",
   "metadata": {},
   "outputs": [],
   "source": []
  }
 ],
 "metadata": {
  "kernelspec": {
   "display_name": "Python 3",
   "language": "python",
   "name": "python3"
  },
  "language_info": {
   "codemirror_mode": {
    "name": "ipython",
    "version": 3
   },
   "file_extension": ".py",
   "mimetype": "text/x-python",
   "name": "python",
   "nbconvert_exporter": "python",
   "pygments_lexer": "ipython3",
   "version": "3.6.10"
  }
 },
 "nbformat": 4,
 "nbformat_minor": 5
}
