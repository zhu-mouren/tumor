{
 "cells": [
  {
   "cell_type": "code",
   "execution_count": 1,
   "id": "center-healthcare",
   "metadata": {},
   "outputs": [
    {
     "name": "stdout",
     "output_type": "stream",
     "text": [
      "Package                 Version            \n",
      "----------------------- -------------------\n",
      "absl-py                 0.12.0             \n",
      "antspyx                 0.2.7              \n",
      "anyio                   2.2.0              \n",
      "argon2-cffi             20.1.0             \n",
      "astor                   0.8.0              \n",
      "astunparse              1.6.3              \n",
      "async-generator         1.10               \n",
      "attrs                   20.3.0             \n",
      "Babel                   2.9.0              \n",
      "backcall                0.2.0              \n",
      "batchgenerators         0.21               \n",
      "bleach                  3.3.0              \n",
      "cachetools              4.1.0              \n",
      "certifi                 2020.4.5.1         \n",
      "cffi                    1.14.0             \n",
      "chardet                 3.0.4              \n",
      "chart-studio            1.1.0              \n",
      "click                   8.0.1              \n",
      "cloudpickle             1.6.0              \n",
      "contextvars             2.4                \n",
      "cycler                  0.10.0             \n",
      "dataclasses             0.8                \n",
      "decorator               4.4.2              \n",
      "defusedxml              0.7.1              \n",
      "dicom2nifti             2.2.12             \n",
      "entrypoints             0.3                \n",
      "Flask                   2.0.1              \n",
      "flatbuffers             1.12               \n",
      "future                  0.16.0             \n",
      "gast                    0.3.3              \n",
      "google-auth             1.14.1             \n",
      "google-auth-oauthlib    0.4.1              \n",
      "google-pasta            0.2.0              \n",
      "grpcio                  1.32.0             \n",
      "h5py                    2.10.0             \n",
      "hausdorff               0.2.5              \n",
      "idna                    2.9                \n",
      "imageio                 2.9.0              \n",
      "immutables              0.15               \n",
      "importlib-metadata      3.10.0             \n",
      "ipykernel               5.5.3              \n",
      "ipython                 7.16.1             \n",
      "ipython-genutils        0.2.0              \n",
      "ipywidgets              7.6.3              \n",
      "itsdangerous            2.0.1              \n",
      "jedi                    0.18.0             \n",
      "Jinja2                  3.0.1              \n",
      "joblib                  1.0.1              \n",
      "json5                   0.9.5              \n",
      "jsonschema              3.2.0              \n",
      "jupyter                 1.0.0              \n",
      "jupyter-client          6.1.12             \n",
      "jupyter-console         6.4.0              \n",
      "jupyter-core            4.7.1              \n",
      "jupyter-packaging       0.7.12             \n",
      "jupyter-server          1.5.1              \n",
      "jupyterlab              3.0.12             \n",
      "jupyterlab-pygments     0.1.2              \n",
      "jupyterlab-server       2.4.0              \n",
      "jupyterlab-widgets      1.0.0              \n",
      "Keras                   2.2.4              \n",
      "Keras-Applications      1.0.8              \n",
      "Keras-Preprocessing     1.1.2              \n",
      "keras-tqdm              2.0.1              \n",
      "kiwisolver              1.3.1              \n",
      "linecache2              1.0.0              \n",
      "llvmlite                0.36.0             \n",
      "lxml                    4.5.0              \n",
      "Markdown                3.1.1              \n",
      "MarkupSafe              2.0.1              \n",
      "matplotlib              2.2.5              \n",
      "MedPy                   0.4.0              \n",
      "mistune                 0.8.4              \n",
      "mkl-fft                 1.0.15             \n",
      "mkl-random              1.1.0              \n",
      "mkl-service             2.3.0              \n",
      "mock                    4.0.1              \n",
      "nbclassic               0.2.6              \n",
      "nbclient                0.5.3              \n",
      "nbconvert               6.0.7              \n",
      "nbformat                5.1.2              \n",
      "nest-asyncio            1.5.1              \n",
      "networkx                2.5                \n",
      "neuralgym               0.0.1              \n",
      "nibabel                 3.2.1              \n",
      "notebook                6.3.0              \n",
      "numba                   0.53.1             \n",
      "numpy                   1.19.5             \n",
      "oauthlib                3.1.0              \n",
      "opencv-python           3.4.13.47          \n",
      "opt-einsum              3.3.0              \n",
      "packaging               20.9               \n",
      "pandas                  1.1.5              \n",
      "pandocfilters           1.4.3              \n",
      "parso                   0.8.2              \n",
      "patsy                   0.5.1              \n",
      "pexpect                 4.8.0              \n",
      "pickleshare             0.7.5              \n",
      "Pillow                  8.2.0              \n",
      "pip                     20.0.2             \n",
      "plotly                  4.14.3             \n",
      "progressbar2            3.53.1             \n",
      "prometheus-client       0.9.0              \n",
      "prompt-toolkit          3.0.18             \n",
      "protobuf                3.11.4             \n",
      "ptyprocess              0.7.0              \n",
      "pyaml                   20.4.0             \n",
      "pyasn1                  0.4.8              \n",
      "pyasn1-modules          0.2.8              \n",
      "pycparser               2.20               \n",
      "pydicom                 2.1.2              \n",
      "Pygments                2.8.1              \n",
      "pyparsing               2.4.7              \n",
      "pyrsistent              0.17.3             \n",
      "python-dateutil         2.8.1              \n",
      "python-utils            2.5.6              \n",
      "pytils                  0.3                \n",
      "pytz                    2021.1             \n",
      "PyWavelets              1.1.1              \n",
      "PyYAML                  5.4.1              \n",
      "pyzmq                   22.0.3             \n",
      "qtconsole               5.0.3              \n",
      "QtPy                    1.9.0              \n",
      "requests                2.23.0             \n",
      "requests-oauthlib       1.3.0              \n",
      "retrying                1.3.3              \n",
      "rsa                     4.0                \n",
      "scikit-image            0.17.2             \n",
      "scikit-learn            0.24.1             \n",
      "scipy                   1.5.4              \n",
      "Send2Trash              1.5.0              \n",
      "setuptools              46.1.3.post20200330\n",
      "SimpleITK               2.0.2              \n",
      "six                     1.15.0             \n",
      "sklearn                 0.0                \n",
      "sniffio                 1.2.0              \n",
      "statsmodels             0.12.2             \n",
      "tensorboard             2.5.0              \n",
      "tensorboard-data-server 0.6.0              \n",
      "tensorboard-plugin-wit  1.8.0              \n",
      "tensorflow-addons       0.12.1             \n",
      "tensorflow-estimator    2.4.0              \n",
      "tensorflow-gpu          2.4.1              \n",
      "tensorlayer             2.2.3              \n",
      "termcolor               1.1.0              \n",
      "terminado               0.9.4              \n",
      "testpath                0.4.4              \n",
      "threadpoolctl           2.1.0              \n",
      "tifffile                2020.9.3           \n",
      "tools                   0.1.9              \n",
      "torch                   1.0.1              \n",
      "torchvision             0.2.0              \n",
      "tornado                 6.1                \n",
      "tqdm                    4.59.0             \n",
      "traceback2              1.4.0              \n",
      "traitlets               4.3.3              \n",
      "typeguard               2.12.0             \n",
      "typing-extensions       3.7.4.3            \n",
      "unittest2               1.1.0              \n",
      "urllib3                 1.25.9             \n",
      "wcwidth                 0.2.5              \n",
      "webcolors               1.11.1             \n",
      "webencodings            0.5.1              \n",
      "Werkzeug                2.0.1              \n",
      "wheel                   0.36.2             \n",
      "widgetsnbextension      3.5.1              \n",
      "wrapt                   1.12.1             \n",
      "zipp                    3.4.1              \n",
      "Note: you may need to restart the kernel to use updated packages.\n"
     ]
    }
   ],
   "source": [
    "pip list"
   ]
  },
  {
   "cell_type": "code",
   "execution_count": 39,
   "id": "gorgeous-yugoslavia",
   "metadata": {},
   "outputs": [],
   "source": [
    "import tensorflow as tf"
   ]
  },
  {
   "cell_type": "code",
   "execution_count": 40,
   "id": "tender-belgium",
   "metadata": {},
   "outputs": [],
   "source": [
    "root = tf.train.Checkpoint()"
   ]
  },
  {
   "cell_type": "code",
   "execution_count": 41,
   "id": "posted-burst",
   "metadata": {},
   "outputs": [],
   "source": [
    "root.v1 = tf.Variable(3.)"
   ]
  },
  {
   "cell_type": "code",
   "execution_count": 42,
   "id": "curious-costa",
   "metadata": {},
   "outputs": [],
   "source": [
    "root.v2 = tf.Variable(2.)"
   ]
  },
  {
   "cell_type": "code",
   "execution_count": 43,
   "id": "local-excess",
   "metadata": {},
   "outputs": [],
   "source": [
    "root.f = tf.function(lambda x: root.v1 * root.v2 * x)\n"
   ]
  },
  {
   "cell_type": "code",
   "execution_count": 44,
   "id": "bigger-edgar",
   "metadata": {},
   "outputs": [],
   "source": [
    "export_dir = \"/tmp/test_saved_model\""
   ]
  },
  {
   "cell_type": "code",
   "execution_count": null,
   "id": "superb-pharmacology",
   "metadata": {},
   "outputs": [],
   "source": []
  },
  {
   "cell_type": "code",
   "execution_count": 45,
   "id": "waiting-issue",
   "metadata": {},
   "outputs": [],
   "source": [
    "input_data = tf.constant(1., shape=[1, 1])"
   ]
  },
  {
   "cell_type": "code",
   "execution_count": 46,
   "id": "amino-value",
   "metadata": {},
   "outputs": [],
   "source": [
    "to_save = root.f.get_concrete_function(input_data)"
   ]
  },
  {
   "cell_type": "code",
   "execution_count": 47,
   "id": "muslim-kuwait",
   "metadata": {},
   "outputs": [
    {
     "name": "stdout",
     "output_type": "stream",
     "text": [
      "INFO:tensorflow:Assets written to: /tmp/test_saved_model/assets\n"
     ]
    }
   ],
   "source": [
    "tf.saved_model.save(root, export_dir, to_save)"
   ]
  },
  {
   "cell_type": "code",
   "execution_count": 48,
   "id": "funky-support",
   "metadata": {},
   "outputs": [],
   "source": [
    "converter = tf.lite.TFLiteConverter.from_saved_model(export_dir)"
   ]
  },
  {
   "cell_type": "code",
   "execution_count": 49,
   "id": "fitting-vancouver",
   "metadata": {},
   "outputs": [],
   "source": [
    "tflite_model = converter.convert()"
   ]
  },
  {
   "cell_type": "code",
   "execution_count": 50,
   "id": "adopted-russell",
   "metadata": {},
   "outputs": [
    {
     "name": "stdout",
     "output_type": "stream",
     "text": [
      "cat: tflite_model: No such file or directory\n"
     ]
    }
   ],
   "source": []
  },
  {
   "cell_type": "code",
   "execution_count": 15,
   "id": "renewable-crack",
   "metadata": {},
   "outputs": [
    {
     "ename": "SyntaxError",
     "evalue": "invalid syntax (<ipython-input-15-e50b28e522f2>, line 1)",
     "output_type": "error",
     "traceback": [
      "\u001b[0;36m  File \u001b[0;32m\"<ipython-input-15-e50b28e522f2>\"\u001b[0;36m, line \u001b[0;32m1\u001b[0m\n\u001b[0;31m    show tflite_model\u001b[0m\n\u001b[0m                    ^\u001b[0m\n\u001b[0;31mSyntaxError\u001b[0m\u001b[0;31m:\u001b[0m invalid syntax\n"
     ]
    }
   ],
   "source": []
  },
  {
   "cell_type": "code",
   "execution_count": null,
   "id": "fallen-outreach",
   "metadata": {},
   "outputs": [],
   "source": []
  }
 ],
 "metadata": {
  "kernelspec": {
   "display_name": "Python 3",
   "language": "python",
   "name": "python3"
  },
  "language_info": {
   "codemirror_mode": {
    "name": "ipython",
    "version": 3
   },
   "file_extension": ".py",
   "mimetype": "text/x-python",
   "name": "python",
   "nbconvert_exporter": "python",
   "pygments_lexer": "ipython3",
   "version": "3.6.10"
  }
 },
 "nbformat": 4,
 "nbformat_minor": 5
}
